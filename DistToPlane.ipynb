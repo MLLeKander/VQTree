{
 "cells": [
  {
   "cell_type": "code",
   "execution_count": 1,
   "metadata": {
    "collapsed": true,
    "deletable": true,
    "editable": true
   },
   "outputs": [],
   "source": [
    "import numpy as np\n",
    "import matplotlib as mpl\n",
    "import matplotlib.pyplot as plt\n",
    "from ipywidgets import interact, interactive, fixed, interact_manual\n",
    "import ipywidgets as widgets\n",
    "\n",
    "\n",
    "mpl.rcParams['lines.color'] = 'k'\n",
    "mpl.rcParams['axes.prop_cycle'] = mpl.cycler('color', ['k'])"
   ]
  },
  {
   "cell_type": "code",
   "execution_count": 98,
   "metadata": {
    "collapsed": true,
    "deletable": true,
    "editable": true
   },
   "outputs": [],
   "source": [
    "x = np.linspace(-2, 2, 400)\n",
    "y = np.linspace(-2, 2, 400)\n",
    "x, y = np.meshgrid(x, y)"
   ]
  },
  {
   "cell_type": "code",
   "execution_count": 99,
   "metadata": {
    "collapsed": false,
    "deletable": true,
    "editable": true
   },
   "outputs": [],
   "source": [
    "def axes():\n",
    "    plt.axhline(0, alpha=.1)\n",
    "    plt.axvline(0, alpha=.1)\n",
    "def sqdist(a,b,x,y):\n",
    "    part1 = np.square(a-x)\n",
    "    part2 = np.square(b-y)\n",
    "    return part1+part2\n",
    "def relSim(x1,y1,x2,y2,x,y):\n",
    "    d1 = sqdist(x1, y1, x, y)\n",
    "    d2 = sqdist(x2, y2, x, y)\n",
    "    return (d1-d2)/(d1+d2)\n",
    "def subDist(x1,y1,x2,y2,x,y):\n",
    "    d1 = sqdist(x1, y1, x, y)\n",
    "    d2 = sqdist(x2, y2, x, y)\n",
    "    return np.abs(d1-d2)\n",
    "def addDist(x1,y1,x2,y2,x,y):\n",
    "    d1 = sqdist(x1, y1, x, y)\n",
    "    d2 = sqdist(x2, y2, x, y)\n",
    "    return (d1+d2)\n",
    "def relPlaneDist(x1,y1,x2,y2,x,y):\n",
    "    d1 = sqdist(x1, y1, x, y)\n",
    "    d2 = sqdist(x2, y2, x, y)\n",
    "    dAB = sqdist(x1, y1, x2, y2)\n",
    "    return np.abs(d1-d2)/dAB\n",
    "def planeDist(x1,y1,x2,y2,x,y):\n",
    "    d1 = sqdist(x1, y1, x, y)\n",
    "    d2 = sqdist(x2, y2, x, y)\n",
    "    dAB = sqdist(x1, y1, x2, y2)\n",
    "    return np.square(d1-d2)/sqdist(x1, y1, x2, y2)/4\n",
    "def ratioDist(x1,y1,x2,y2,x,y):\n",
    "    d1 = sqdist(x1, y1, x, y)\n",
    "    d2 = sqdist(x2, y2, x, y)\n",
    "    return 1-np.minimum(d1,d2)/np.maximum(d1,d2)\n",
    "def parabolaDist(x1,y1,x2,y2,x,y):\n",
    "    dP = planeDist(x1,y1,x2,y2,x,y)\n",
    "    d1 = sqdist(x1, y1, x, y)\n",
    "    d2 = sqdist(x2, y2, x, y)\n",
    "    return np.minimum(d1,d2)/dP.clip(min=.001)"
   ]
  },
  {
   "cell_type": "code",
   "execution_count": 100,
   "metadata": {
    "collapsed": false,
    "deletable": true,
    "editable": true
   },
   "outputs": [
    {
     "data": {
      "application/vnd.jupyter.widget-view+json": {
       "model_id": "e2b16fbf5b6c4d468178934ab2e55d9a"
      }
     },
     "metadata": {},
     "output_type": "display_data"
    },
    {
     "data": {
      "text/plain": [
       "<function __main__.myplot>"
      ]
     },
     "execution_count": 100,
     "metadata": {},
     "output_type": "execute_result"
    }
   ],
   "source": [
    "def myplot(x1=-1.0, y1=1.0, x2=1.0, y2=-1.0, d=relSim):\n",
    "    axes()\n",
    "    plt.plot([x1,x2], [y1,y2], 'ro')\n",
    "    cs = plt.contour(x, y, d(x1,y1,x2,y2,x,y), locator=mpl.ticker.LogLocator())#, np.linspace(-5,5,51))\n",
    "    plt.clabel(cs)\n",
    "    plt.show()\n",
    "methods = [relSim,subDist,addDist,relPlaneDist,planeDist,ratioDist, parabolaDist]\n",
    "methods = {f.__name__: f for f in methods}\n",
    "interact(myplot, x1=(-10,10.), y1=(-10,10.), x2=(-10,10.), y2=(-10,10.), d=methods)"
   ]
  },
  {
   "cell_type": "code",
   "execution_count": 56,
   "metadata": {
    "collapsed": false
   },
   "outputs": [
    {
     "name": "stdout",
     "output_type": "stream",
     "text": [
      "Q:1.0 X1:2.0 X2:-2.0\n",
      "\n",
      "relSim: -0.8\n",
      "relPlaneDist: 0.5\n",
      "dAB: 16.0\n",
      "\n",
      "planeDist1: 1.0\n",
      "planeDist2: 1.0\n",
      "planeDist3: 1.0\n",
      "sqDist: 1.0\n"
     ]
    }
   ],
   "source": [
    "q  = 1.\n",
    "x1 = 2.\n",
    "x2 = -2.\n",
    "\n",
    "print 'Q:%.1f X1:%.1f X2:%.1f'%(q,x1,x2)\n",
    "print ''\n",
    "print 'relSim:',relSim(x1,0,x2,0,q,0)\n",
    "print 'relPlaneDist:',relPlaneDist(x1,0.,x2,0.,q,0.)\n",
    "print 'dAB:',sqdist(x1,0,x2,0)\n",
    "print ''\n",
    "print 'planeDist1:',relPlaneDist(x1,0,x2,0,q,0)**p * sqdist(x1,0,x2,0)/4\n",
    "print 'planeDist2:',(subDist(x1,0,x2,0,q,0)**p / sqdist(x1,0,x2,0))/4\n",
    "print 'planeDist3:',planeDist(x1,0,x2,0,q,0)\n",
    "print 'sqDist:',sqdist((x1+x2)/2.,0,q,0)"
   ]
  }
 ],
 "metadata": {
  "kernelspec": {
   "display_name": "Python 2",
   "language": "python",
   "name": "python2"
  },
  "language_info": {
   "codemirror_mode": {
    "name": "ipython",
    "version": 2
   },
   "file_extension": ".py",
   "mimetype": "text/x-python",
   "name": "python",
   "nbconvert_exporter": "python",
   "pygments_lexer": "ipython2",
   "version": "2.7.12"
  }
 },
 "nbformat": 4,
 "nbformat_minor": 2
}
